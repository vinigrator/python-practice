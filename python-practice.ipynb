{
 "cells": [
  {
   "cell_type": "code",
   "execution_count": 1,
   "metadata": {
    "collapsed": true
   },
   "outputs": [],
   "source": [
    "\"\"\"\n",
    "    Работа с файлами. Запись в файл.\n",
    "    Написать функцию, которая сгенерирует список имен \n",
    "    (например, 200 штук) и запишет его в файл по \n",
    "    одному имени на строку.\n",
    "\"\"\"\n",
    "def generate_some_names():\n",
    "    names = []\n",
    "    with open('names.txt', 'w') as f:\n",
    "        pass"
   ]
  },
  {
   "cell_type": "code",
   "execution_count": 2,
   "metadata": {
    "collapsed": true
   },
   "outputs": [],
   "source": [
    "\"\"\"\n",
    "    Работа с файлами. Чтение из файла.\n",
    "    Написать функцию для подсчета количества вхождений\n",
    "    каждого имени в сгенерированном в предыдущем примере файле.\n",
    "    Вывести результат в формате \"Имя количество\".\n",
    "\"\"\"\n",
    "def count_names():\n",
    "    with open('names.txt', 'r') as f:\n",
    "        pass"
   ]
  },
  {
   "cell_type": "code",
   "execution_count": 3,
   "metadata": {
    "collapsed": true
   },
   "outputs": [],
   "source": [
    "\"\"\"\n",
    "    Стандартные библиотеки Python.\n",
    "    Определить размер файла и удалить его.\n",
    "\"\"\"\n",
    "import os\n",
    "\n",
    "def show_info_and_delete_file(f):\n",
    "    pass"
   ]
  },
  {
   "cell_type": "code",
   "execution_count": 4,
   "metadata": {
    "collapsed": true
   },
   "outputs": [],
   "source": [
    "\"\"\"\n",
    "    Стандартные библиотеки Python.\n",
    "    Написать функцию, которая проверяет соответствие\n",
    "    email'а заданным правилам:\n",
    "    1. Первая часть должна содержать только буквы или цифры.\n",
    "    2. Длина первой части не менее 5 символов.\n",
    "    3. Домен первого уровня должен быть 'ru'.\n",
    "    4. Домен второго уровня может содержать буквы и знак '-'.\n",
    "    \n",
    "    Например, подходят емейлы вида wow@hey-you.ru\n",
    "    Не подходят w.ow@hey.com\n",
    "\"\"\"\n",
    "import re\n",
    "\n",
    "def show_info_and_delete_file(f):\n",
    "    pass"
   ]
  },
  {
   "cell_type": "code",
   "execution_count": null,
   "metadata": {
    "collapsed": true
   },
   "outputs": [],
   "source": [
    "\"\"\"\n",
    "    Рекурсия.\n",
    "    Написать функцию для вычисления ряда чисел Фибоначчи (1,1,2,3,5,8,...).\n",
    "    На вход передается количество чисел. На выходе список.\n",
    "\"\"\"\n",
    "def fibonnaci(n):\n",
    "    return []"
   ]
  }
 ],
 "metadata": {
  "kernelspec": {
   "display_name": "Python 2",
   "language": "python",
   "name": "python2"
  },
  "language_info": {
   "codemirror_mode": {
    "name": "ipython",
    "version": 2
   },
   "file_extension": ".py",
   "mimetype": "text/x-python",
   "name": "python",
   "nbconvert_exporter": "python",
   "pygments_lexer": "ipython2",
   "version": "2.7.11"
  }
 },
 "nbformat": 4,
 "nbformat_minor": 0
}
